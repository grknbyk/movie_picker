{
 "cells": [
  {
   "cell_type": "code",
   "execution_count": 14,
   "id": "3c550c05",
   "metadata": {},
   "outputs": [],
   "source": [
    "import pandas as pd"
   ]
  },
  {
   "cell_type": "code",
   "execution_count": 16,
   "id": "3b441936",
   "metadata": {},
   "outputs": [
    {
     "data": {
      "text/plain": [
       "(440, 7)"
      ]
     },
     "execution_count": 16,
     "metadata": {},
     "output_type": "execute_result"
    }
   ],
   "source": [
    "movie_list = pd.read_csv(\"movie_list.csv\")\n",
    "movie_list.shape"
   ]
  },
  {
   "cell_type": "code",
   "execution_count": 17,
   "id": "1f554a13",
   "metadata": {},
   "outputs": [
    {
     "data": {
      "text/html": [
       "<div>\n",
       "<style scoped>\n",
       "    .dataframe tbody tr th:only-of-type {\n",
       "        vertical-align: middle;\n",
       "    }\n",
       "\n",
       "    .dataframe tbody tr th {\n",
       "        vertical-align: top;\n",
       "    }\n",
       "\n",
       "    .dataframe thead th {\n",
       "        text-align: right;\n",
       "    }\n",
       "</style>\n",
       "<table border=\"1\" class=\"dataframe\">\n",
       "  <thead>\n",
       "    <tr style=\"text-align: right;\">\n",
       "      <th></th>\n",
       "      <th>Watched</th>\n",
       "      <th>Title</th>\n",
       "      <th>Year</th>\n",
       "      <th>IMDb Rating</th>\n",
       "      <th>Runtime (mins)</th>\n",
       "      <th>Genres</th>\n",
       "      <th>URL</th>\n",
       "    </tr>\n",
       "  </thead>\n",
       "  <tbody>\n",
       "    <tr>\n",
       "      <th>0</th>\n",
       "      <td>True</td>\n",
       "      <td>3 Idiots</td>\n",
       "      <td>2009</td>\n",
       "      <td>8.4</td>\n",
       "      <td>170</td>\n",
       "      <td>Comedy, Drama</td>\n",
       "      <td>https://www.imdb.com/title/tt1187043/</td>\n",
       "    </tr>\n",
       "    <tr>\n",
       "      <th>1</th>\n",
       "      <td>False</td>\n",
       "      <td>Reservoir Dogs</td>\n",
       "      <td>1992</td>\n",
       "      <td>8.3</td>\n",
       "      <td>99</td>\n",
       "      <td>Crime, Thriller</td>\n",
       "      <td>https://www.imdb.com/title/tt0105236/</td>\n",
       "    </tr>\n",
       "    <tr>\n",
       "      <th>2</th>\n",
       "      <td>True</td>\n",
       "      <td>Lawless</td>\n",
       "      <td>2012</td>\n",
       "      <td>7.2</td>\n",
       "      <td>116</td>\n",
       "      <td>Biography, Crime, Drama</td>\n",
       "      <td>https://www.imdb.com/title/tt1212450/</td>\n",
       "    </tr>\n",
       "    <tr>\n",
       "      <th>3</th>\n",
       "      <td>True</td>\n",
       "      <td>John Wick: Chapter 2</td>\n",
       "      <td>2017</td>\n",
       "      <td>7.4</td>\n",
       "      <td>122</td>\n",
       "      <td>Action, Crime, Thriller</td>\n",
       "      <td>https://www.imdb.com/title/tt4425200/</td>\n",
       "    </tr>\n",
       "    <tr>\n",
       "      <th>4</th>\n",
       "      <td>False</td>\n",
       "      <td>How to Train Your Dragon</td>\n",
       "      <td>2010</td>\n",
       "      <td>8.1</td>\n",
       "      <td>98</td>\n",
       "      <td>Animation, Action, Adventure, Family, Fantasy</td>\n",
       "      <td>https://www.imdb.com/title/tt0892769/</td>\n",
       "    </tr>\n",
       "  </tbody>\n",
       "</table>\n",
       "</div>"
      ],
      "text/plain": [
       "   Watched                     Title  Year  IMDb Rating  Runtime (mins)  \\\n",
       "0     True                  3 Idiots  2009          8.4             170   \n",
       "1    False            Reservoir Dogs  1992          8.3              99   \n",
       "2     True                   Lawless  2012          7.2             116   \n",
       "3     True      John Wick: Chapter 2  2017          7.4             122   \n",
       "4    False  How to Train Your Dragon  2010          8.1              98   \n",
       "\n",
       "                                          Genres  \\\n",
       "0                                  Comedy, Drama   \n",
       "1                                Crime, Thriller   \n",
       "2                        Biography, Crime, Drama   \n",
       "3                        Action, Crime, Thriller   \n",
       "4  Animation, Action, Adventure, Family, Fantasy   \n",
       "\n",
       "                                     URL  \n",
       "0  https://www.imdb.com/title/tt1187043/  \n",
       "1  https://www.imdb.com/title/tt0105236/  \n",
       "2  https://www.imdb.com/title/tt1212450/  \n",
       "3  https://www.imdb.com/title/tt4425200/  \n",
       "4  https://www.imdb.com/title/tt0892769/  "
      ]
     },
     "execution_count": 17,
     "metadata": {},
     "output_type": "execute_result"
    }
   ],
   "source": [
    "movie_list.head()"
   ]
  },
  {
   "cell_type": "code",
   "execution_count": 18,
   "id": "e867d36a",
   "metadata": {},
   "outputs": [
    {
     "data": {
      "text/plain": [
       "(25, 18)"
      ]
     },
     "execution_count": 18,
     "metadata": {},
     "output_type": "execute_result"
    }
   ],
   "source": [
    "thriller = pd.read_csv(\"thriller.csv\")\n",
    "thriller.shape"
   ]
  },
  {
   "cell_type": "code",
   "execution_count": 20,
   "id": "eb00fb4d",
   "metadata": {},
   "outputs": [
    {
     "data": {
      "text/plain": [
       "(25, 7)"
      ]
     },
     "execution_count": 20,
     "metadata": {},
     "output_type": "execute_result"
    }
   ],
   "source": [
    "thriller = thriller[[\"Title\", \"Year\", \"IMDb Rating\", \"Runtime (mins)\", \"Genres\", \"URL\"]]\n",
    "thriller[\"Watched\"] = False\n",
    "thriller.shape"
   ]
  },
  {
   "cell_type": "code",
   "execution_count": 21,
   "id": "7759ef5b",
   "metadata": {},
   "outputs": [
    {
     "data": {
      "text/html": [
       "<div>\n",
       "<style scoped>\n",
       "    .dataframe tbody tr th:only-of-type {\n",
       "        vertical-align: middle;\n",
       "    }\n",
       "\n",
       "    .dataframe tbody tr th {\n",
       "        vertical-align: top;\n",
       "    }\n",
       "\n",
       "    .dataframe thead th {\n",
       "        text-align: right;\n",
       "    }\n",
       "</style>\n",
       "<table border=\"1\" class=\"dataframe\">\n",
       "  <thead>\n",
       "    <tr style=\"text-align: right;\">\n",
       "      <th></th>\n",
       "      <th>Title</th>\n",
       "      <th>Year</th>\n",
       "      <th>IMDb Rating</th>\n",
       "      <th>Runtime (mins)</th>\n",
       "      <th>Genres</th>\n",
       "      <th>URL</th>\n",
       "      <th>Watched</th>\n",
       "    </tr>\n",
       "  </thead>\n",
       "  <tbody>\n",
       "    <tr>\n",
       "      <th>0</th>\n",
       "      <td>Funny Games</td>\n",
       "      <td>2007</td>\n",
       "      <td>6.5</td>\n",
       "      <td>111</td>\n",
       "      <td>Crime, Drama, Thriller</td>\n",
       "      <td>https://www.imdb.com/title/tt0808279/</td>\n",
       "      <td>False</td>\n",
       "    </tr>\n",
       "    <tr>\n",
       "      <th>1</th>\n",
       "      <td>Funny Games</td>\n",
       "      <td>1997</td>\n",
       "      <td>7.5</td>\n",
       "      <td>108</td>\n",
       "      <td>Crime, Drama, Thriller</td>\n",
       "      <td>https://www.imdb.com/title/tt0119167/</td>\n",
       "      <td>False</td>\n",
       "    </tr>\n",
       "    <tr>\n",
       "      <th>2</th>\n",
       "      <td>The Wailing</td>\n",
       "      <td>2016</td>\n",
       "      <td>7.4</td>\n",
       "      <td>156</td>\n",
       "      <td>Drama, Horror, Mystery, Thriller</td>\n",
       "      <td>https://www.imdb.com/title/tt5215952/</td>\n",
       "      <td>False</td>\n",
       "    </tr>\n",
       "    <tr>\n",
       "      <th>3</th>\n",
       "      <td>The Invitation</td>\n",
       "      <td>2022</td>\n",
       "      <td>5.3</td>\n",
       "      <td>105</td>\n",
       "      <td>Horror, Thriller</td>\n",
       "      <td>https://www.imdb.com/title/tt12873562/</td>\n",
       "      <td>False</td>\n",
       "    </tr>\n",
       "    <tr>\n",
       "      <th>4</th>\n",
       "      <td>The Lodge</td>\n",
       "      <td>2019</td>\n",
       "      <td>6.0</td>\n",
       "      <td>108</td>\n",
       "      <td>Drama, Horror, Mystery, Thriller</td>\n",
       "      <td>https://www.imdb.com/title/tt7347846/</td>\n",
       "      <td>False</td>\n",
       "    </tr>\n",
       "  </tbody>\n",
       "</table>\n",
       "</div>"
      ],
      "text/plain": [
       "            Title  Year  IMDb Rating  Runtime (mins)  \\\n",
       "0     Funny Games  2007          6.5             111   \n",
       "1     Funny Games  1997          7.5             108   \n",
       "2     The Wailing  2016          7.4             156   \n",
       "3  The Invitation  2022          5.3             105   \n",
       "4       The Lodge  2019          6.0             108   \n",
       "\n",
       "                             Genres                                     URL  \\\n",
       "0            Crime, Drama, Thriller   https://www.imdb.com/title/tt0808279/   \n",
       "1            Crime, Drama, Thriller   https://www.imdb.com/title/tt0119167/   \n",
       "2  Drama, Horror, Mystery, Thriller   https://www.imdb.com/title/tt5215952/   \n",
       "3                  Horror, Thriller  https://www.imdb.com/title/tt12873562/   \n",
       "4  Drama, Horror, Mystery, Thriller   https://www.imdb.com/title/tt7347846/   \n",
       "\n",
       "   Watched  \n",
       "0    False  \n",
       "1    False  \n",
       "2    False  \n",
       "3    False  \n",
       "4    False  "
      ]
     },
     "execution_count": 21,
     "metadata": {},
     "output_type": "execute_result"
    }
   ],
   "source": [
    "thriller.head()"
   ]
  },
  {
   "cell_type": "code",
   "execution_count": 23,
   "id": "23c1cbc8",
   "metadata": {},
   "outputs": [
    {
     "data": {
      "text/plain": [
       "(465, 7)"
      ]
     },
     "execution_count": 23,
     "metadata": {},
     "output_type": "execute_result"
    }
   ],
   "source": [
    "df = pd.concat([movie_list, thriller], ignore_index=True)\n",
    "df.shape"
   ]
  },
  {
   "cell_type": "code",
   "execution_count": 24,
   "id": "c828ea80",
   "metadata": {},
   "outputs": [
    {
     "data": {
      "text/html": [
       "<div>\n",
       "<style scoped>\n",
       "    .dataframe tbody tr th:only-of-type {\n",
       "        vertical-align: middle;\n",
       "    }\n",
       "\n",
       "    .dataframe tbody tr th {\n",
       "        vertical-align: top;\n",
       "    }\n",
       "\n",
       "    .dataframe thead th {\n",
       "        text-align: right;\n",
       "    }\n",
       "</style>\n",
       "<table border=\"1\" class=\"dataframe\">\n",
       "  <thead>\n",
       "    <tr style=\"text-align: right;\">\n",
       "      <th></th>\n",
       "      <th>Watched</th>\n",
       "      <th>Title</th>\n",
       "      <th>Year</th>\n",
       "      <th>IMDb Rating</th>\n",
       "      <th>Runtime (mins)</th>\n",
       "      <th>Genres</th>\n",
       "      <th>URL</th>\n",
       "    </tr>\n",
       "  </thead>\n",
       "  <tbody>\n",
       "    <tr>\n",
       "      <th>0</th>\n",
       "      <td>True</td>\n",
       "      <td>3 Idiots</td>\n",
       "      <td>2009</td>\n",
       "      <td>8.4</td>\n",
       "      <td>170</td>\n",
       "      <td>Comedy, Drama</td>\n",
       "      <td>https://www.imdb.com/title/tt1187043/</td>\n",
       "    </tr>\n",
       "    <tr>\n",
       "      <th>1</th>\n",
       "      <td>False</td>\n",
       "      <td>Reservoir Dogs</td>\n",
       "      <td>1992</td>\n",
       "      <td>8.3</td>\n",
       "      <td>99</td>\n",
       "      <td>Crime, Thriller</td>\n",
       "      <td>https://www.imdb.com/title/tt0105236/</td>\n",
       "    </tr>\n",
       "    <tr>\n",
       "      <th>2</th>\n",
       "      <td>True</td>\n",
       "      <td>Lawless</td>\n",
       "      <td>2012</td>\n",
       "      <td>7.2</td>\n",
       "      <td>116</td>\n",
       "      <td>Biography, Crime, Drama</td>\n",
       "      <td>https://www.imdb.com/title/tt1212450/</td>\n",
       "    </tr>\n",
       "    <tr>\n",
       "      <th>3</th>\n",
       "      <td>True</td>\n",
       "      <td>John Wick: Chapter 2</td>\n",
       "      <td>2017</td>\n",
       "      <td>7.4</td>\n",
       "      <td>122</td>\n",
       "      <td>Action, Crime, Thriller</td>\n",
       "      <td>https://www.imdb.com/title/tt4425200/</td>\n",
       "    </tr>\n",
       "    <tr>\n",
       "      <th>4</th>\n",
       "      <td>False</td>\n",
       "      <td>How to Train Your Dragon</td>\n",
       "      <td>2010</td>\n",
       "      <td>8.1</td>\n",
       "      <td>98</td>\n",
       "      <td>Animation, Action, Adventure, Family, Fantasy</td>\n",
       "      <td>https://www.imdb.com/title/tt0892769/</td>\n",
       "    </tr>\n",
       "  </tbody>\n",
       "</table>\n",
       "</div>"
      ],
      "text/plain": [
       "   Watched                     Title  Year  IMDb Rating  Runtime (mins)  \\\n",
       "0     True                  3 Idiots  2009          8.4             170   \n",
       "1    False            Reservoir Dogs  1992          8.3              99   \n",
       "2     True                   Lawless  2012          7.2             116   \n",
       "3     True      John Wick: Chapter 2  2017          7.4             122   \n",
       "4    False  How to Train Your Dragon  2010          8.1              98   \n",
       "\n",
       "                                          Genres  \\\n",
       "0                                  Comedy, Drama   \n",
       "1                                Crime, Thriller   \n",
       "2                        Biography, Crime, Drama   \n",
       "3                        Action, Crime, Thriller   \n",
       "4  Animation, Action, Adventure, Family, Fantasy   \n",
       "\n",
       "                                     URL  \n",
       "0  https://www.imdb.com/title/tt1187043/  \n",
       "1  https://www.imdb.com/title/tt0105236/  \n",
       "2  https://www.imdb.com/title/tt1212450/  \n",
       "3  https://www.imdb.com/title/tt4425200/  \n",
       "4  https://www.imdb.com/title/tt0892769/  "
      ]
     },
     "execution_count": 24,
     "metadata": {},
     "output_type": "execute_result"
    }
   ],
   "source": [
    "df.head()"
   ]
  },
  {
   "cell_type": "code",
   "execution_count": 25,
   "id": "5f3612e2",
   "metadata": {},
   "outputs": [
    {
     "data": {
      "text/plain": [
       "Watched           0\n",
       "Title             0\n",
       "Year              0\n",
       "IMDb Rating       0\n",
       "Runtime (mins)    0\n",
       "Genres            0\n",
       "URL               0\n",
       "dtype: int64"
      ]
     },
     "execution_count": 25,
     "metadata": {},
     "output_type": "execute_result"
    }
   ],
   "source": [
    "df.isnull().sum()"
   ]
  },
  {
   "cell_type": "code",
   "execution_count": 27,
   "id": "609e5d10",
   "metadata": {},
   "outputs": [
    {
     "data": {
      "text/plain": [
       "0"
      ]
     },
     "execution_count": 27,
     "metadata": {},
     "output_type": "execute_result"
    }
   ],
   "source": [
    "df.duplicated().sum()"
   ]
  },
  {
   "cell_type": "code",
   "execution_count": 28,
   "id": "7d779998",
   "metadata": {},
   "outputs": [],
   "source": [
    "df[\"Runtime (mins)\"] = df[\"Runtime (mins)\"].astype(int)"
   ]
  },
  {
   "cell_type": "code",
   "execution_count": 29,
   "id": "e3df9cca",
   "metadata": {},
   "outputs": [],
   "source": [
    "df.to_csv(\"movie_list.csv\", index=False, encoding='utf-8')"
   ]
  },
  {
   "cell_type": "code",
   "execution_count": null,
   "id": "6af4b10b",
   "metadata": {},
   "outputs": [],
   "source": []
  }
 ],
 "metadata": {
  "kernelspec": {
   "display_name": "Python 3 (ipykernel)",
   "language": "python",
   "name": "python3"
  },
  "language_info": {
   "codemirror_mode": {
    "name": "ipython",
    "version": 3
   },
   "file_extension": ".py",
   "mimetype": "text/x-python",
   "name": "python",
   "nbconvert_exporter": "python",
   "pygments_lexer": "ipython3",
   "version": "3.9.13"
  }
 },
 "nbformat": 4,
 "nbformat_minor": 5
}
